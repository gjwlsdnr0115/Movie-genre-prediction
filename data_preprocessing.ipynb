{
 "cells": [
  {
   "cell_type": "code",
   "execution_count": 1,
   "metadata": {},
   "outputs": [
    {
     "name": "stderr",
     "output_type": "stream",
     "text": [
      "/Library/Frameworks/Python.framework/Versions/3.8/lib/python3.8/site-packages/IPython/core/interactiveshell.py:3062: DtypeWarning: Columns (10) have mixed types.Specify dtype option on import or set low_memory=False.\n",
      "  has_raised = await self.run_ast_nodes(code_ast.body, cell_name,\n"
     ]
    }
   ],
   "source": [
    "import pandas as pd\n",
    "import numpy as np\n",
    "\n",
    "data = pd.read_csv('movies_metadata.csv', encoding='utf-8')"
   ]
  },
  {
   "cell_type": "code",
   "execution_count": 2,
   "metadata": {},
   "outputs": [],
   "source": [
    "# \"장르\" column 정리\n",
    "genres = []\n",
    "for list_ in data[\"genres\"].apply(lambda x: eval(x)):\n",
    "    genres.extend(list_) if len(list_) > 0 else genres.append(np.nan)\n",
    "    \n",
    "# Unique Genre-Id Tuple\n",
    "genres_unique = [set(tuple(x.items()) if type(x) == dict else None for x in genres)]"
   ]
  },
  {
   "cell_type": "code",
   "execution_count": 3,
   "metadata": {},
   "outputs": [],
   "source": [
    "# retain genre by name\n",
    "\n",
    "genre_byname = data[\"genres\"].apply(lambda x: [*map(lambda y: y[\"name\"], eval(x))] if len(eval(x)) > 0 else np.nan)"
   ]
  },
  {
   "cell_type": "code",
   "execution_count": 4,
   "metadata": {},
   "outputs": [],
   "source": [
    "# generate new_data with necessary data\n",
    "\n",
    "new_data = pd.DataFrame(columns=[\"original_title\",\"overview\",\"genres\"])\n",
    "\n",
    "for i in new_data.columns:\n",
    "  new_data[i] = data[i].copy()\n",
    "\n",
    "new_data[\"genres\"] = genre_byname\n",
    "\n",
    "new_data = new_data.dropna().reset_index(drop=True)"
   ]
  },
  {
   "cell_type": "code",
   "execution_count": 5,
   "metadata": {},
   "outputs": [
    {
     "data": {
      "text/plain": [
       "{'Animation': 1920,\n",
       " 'Comedy': 12806,\n",
       " 'Family': 2732,\n",
       " 'Adventure': 3470,\n",
       " 'Fantasy': 2290,\n",
       " 'Romance': 6673,\n",
       " 'Drama': 20023,\n",
       " 'Action': 6565,\n",
       " 'Crime': 4269,\n",
       " 'Thriller': 7586,\n",
       " 'Horror': 4660,\n",
       " 'History': 1379,\n",
       " 'Science Fiction': 3028,\n",
       " 'Mystery': 2451,\n",
       " 'War': 1310,\n",
       " 'Foreign': 1599,\n",
       " 'Music': 1588,\n",
       " 'Documentary': 3886,\n",
       " 'Western': 1035,\n",
       " 'TV Movie': 751,\n",
       " 'Carousel Productions': 1,\n",
       " 'Vision View Entertainment': 1,\n",
       " 'Telescene Film Group Productions': 1,\n",
       " 'Aniplex': 1,\n",
       " 'GoHands': 1,\n",
       " 'BROSTA TV': 1,\n",
       " 'Mardock Scramble Production Committee': 1,\n",
       " 'Sentai Filmworks': 1,\n",
       " 'Odyssey Media': 1,\n",
       " 'Pulser Productions': 1,\n",
       " 'Rogue State': 1,\n",
       " 'The Cartel': 1}"
      ]
     },
     "execution_count": 5,
     "metadata": {},
     "output_type": "execute_result"
    }
   ],
   "source": [
    "genre_counts = {}\n",
    "for genres in new_data['genres']:\n",
    "  for genre in genres:\n",
    "    if genre not in genre_counts:\n",
    "        genre_counts[genre] = 1\n",
    "    else:\n",
    "        genre_counts[genre] += 1\n",
    "genre_counts"
   ]
  },
  {
   "cell_type": "code",
   "execution_count": 6,
   "metadata": {},
   "outputs": [],
   "source": [
    "# exclude insignificant genres\n",
    "exclude_list = []\n",
    "for gen in genre_counts:\n",
    "  if genre_counts[gen] == 1:\n",
    "    exclude_list.append(gen)\n",
    "exclude_list.extend([\"TV Movie\",\"Foreign\", \"Animation\"])\n",
    "for exc in exclude_list:\n",
    "  del genre_counts[exc]"
   ]
  },
  {
   "cell_type": "code",
   "execution_count": null,
   "metadata": {},
   "outputs": [],
   "source": [
    "# draw the correlation plot\n",
    "# make the vectors of each genre\n",
    "\n",
    "data_nn = new_data.copy()\n",
    "for gen in genre_counts.keys():\n",
    "    data_nn[gen] = [0] * len(data_nn)\n",
    "\n",
    "n = 0\n",
    "for gen in genre_counts.keys():\n",
    "    for i in data_nn['genres']:\n",
    "        if gen in i:\n",
    "            data_nn.loc[n,[gen]] = 1\n",
    "            #data_nn[gen][n] = 1\n",
    "        n += 1\n",
    "    print(n == len(data_nn))\n",
    "    n = 0"
   ]
  },
  {
   "cell_type": "code",
   "execution_count": null,
   "metadata": {},
   "outputs": [],
   "source": [
    "data_corr = data_nn.drop(['original_title','overview','genres'], axis=1)\n",
    "corr = data_corr.corr()\n",
    "import seaborn as sns\n",
    "%matplotlib inline\n",
    "import matplotlib.pyplot as plt\n",
    "plt.figure(figsize=(15,15))\n",
    "sns.heatmap(round(corr,2), annot=True, linewidths=2)"
   ]
  },
  {
   "cell_type": "code",
   "execution_count": 7,
   "metadata": {},
   "outputs": [],
   "source": [
    "# sort the genres by the counts\n",
    "# exclude all the unnecessary genres except for the top 5\n",
    "\n",
    "genres_sorted = [j[0] for j in sorted(genre_counts.items(), key = lambda x: x[1])]\n",
    "genres_sorted\n",
    "exclude_list.extend(genres_sorted[:-5])"
   ]
  },
  {
   "cell_type": "code",
   "execution_count": 8,
   "metadata": {},
   "outputs": [],
   "source": [
    "# keep documentary and horror\n",
    "\n",
    "exclude_list.remove(\"Documentary\")\n",
    "exclude_list.remove(\"Horror\")"
   ]
  },
  {
   "cell_type": "code",
   "execution_count": 9,
   "metadata": {},
   "outputs": [],
   "source": [
    "# keep only the selected 7 genres\n",
    "\n",
    "genres_excluded = []\n",
    "for i in new_data[\"genres\"]:\n",
    "    new = list(set(i) - set(exclude_list))\n",
    "    genres_excluded.append(new if len(new) > 0 else np.nan)"
   ]
  },
  {
   "cell_type": "code",
   "execution_count": 10,
   "metadata": {},
   "outputs": [],
   "source": [
    "# replace the genres colum with only the necessary information\n",
    "# drop the rows with no genre remaining\n",
    "\n",
    "new_data[\"genres\"] = genres_excluded\n",
    "new_data = new_data.dropna().reset_index(drop=True)"
   ]
  },
  {
   "cell_type": "code",
   "execution_count": 11,
   "metadata": {},
   "outputs": [],
   "source": [
    "# combine Drama and Romance into Drama/Romance\n",
    "\n",
    "def combine_rd(genres):\n",
    "    l = genres\n",
    "    for i in range(len(genres)):\n",
    "        if l[i] == 'Romance' or l[i] == 'Drama':\n",
    "            l[i] = 'Drama/Romance'\n",
    "    new_genres = list(dict.fromkeys(l))\n",
    "    return new_genres"
   ]
  },
  {
   "cell_type": "code",
   "execution_count": 12,
   "metadata": {},
   "outputs": [],
   "source": [
    "new_data['genres'] = new_data['genres'].apply(lambda x: combine_rd(x))"
   ]
  },
  {
   "cell_type": "code",
   "execution_count": 15,
   "metadata": {},
   "outputs": [
    {
     "data": {
      "text/plain": [
       "{'Comedy': 12806,\n",
       " 'Drama/Romance': 22241,\n",
       " 'Action': 6565,\n",
       " 'Thriller': 7586,\n",
       " 'Horror': 4660,\n",
       " 'Documentary': 3886}"
      ]
     },
     "execution_count": 15,
     "metadata": {},
     "output_type": "execute_result"
    }
   ],
   "source": [
    "# count genres\n",
    "\n",
    "new_genre_counts = {}\n",
    "for genres in new_data['genres']:\n",
    "  for genre in genres:\n",
    "    if genre not in new_genre_counts:\n",
    "        new_genre_counts[genre] = 1\n",
    "    else:\n",
    "        new_genre_counts[genre] += 1\n",
    "new_genre_counts"
   ]
  },
  {
   "cell_type": "code",
   "execution_count": 16,
   "metadata": {},
   "outputs": [
    {
     "data": {
      "text/plain": [
       "['Documentary', 'Horror', 'Action', 'Thriller', 'Comedy', 'Drama/Romance']"
      ]
     },
     "execution_count": 16,
     "metadata": {},
     "output_type": "execute_result"
    }
   ],
   "source": [
    "# sort genres in order\n",
    "\n",
    "new_genres_sorted = [j[0] for j in sorted(new_genre_counts.items(), key = lambda x: x[1])]\n",
    "new_genres_sorted"
   ]
  },
  {
   "cell_type": "code",
   "execution_count": 17,
   "metadata": {},
   "outputs": [
    {
     "name": "stdout",
     "output_type": "stream",
     "text": [
      "0 ,  Comedy\n",
      "1000 ,  Horror\n",
      "2000 ,  Drama/Romance\n",
      "3000 ,  Action\n",
      "4000 ,  Horror\n",
      "5000 ,  Comedy\n",
      "6000 ,  Action\n",
      "7000 ,  Drama/Romance\n",
      "8000 ,  Comedy\n",
      "9000 ,  Thriller\n",
      "10000 ,  Action\n",
      "11000 ,  Comedy\n",
      "12000 ,  Action\n",
      "13000 ,  Comedy\n",
      "14000 ,  Thriller\n",
      "15000 ,  Horror\n",
      "16000 ,  Drama/Romance\n",
      "17000 ,  Action\n",
      "18000 ,  Action\n",
      "19000 ,  Horror\n",
      "20000 ,  Comedy\n",
      "21000 ,  Horror\n",
      "22000 ,  Drama/Romance\n",
      "23000 ,  Comedy\n",
      "24000 ,  Comedy\n",
      "25000 ,  Thriller\n",
      "26000 ,  Drama/Romance\n",
      "27000 ,  Drama/Romance\n",
      "28000 ,  Horror\n",
      "29000 ,  Action\n",
      "30000 ,  Comedy\n",
      "31000 ,  Drama/Romance\n",
      "32000 ,  Drama/Romance\n",
      "33000 ,  Drama/Romance\n",
      "34000 ,  Comedy\n",
      "35000 ,  Comedy\n",
      "36000 ,  Horror\n",
      "37000 ,  Comedy\n",
      "38000 ,  Comedy\n",
      "39000 ,  Comedy\n"
     ]
    }
   ],
   "source": [
    "# leave every row with only 1 genre\n",
    "# if a row has multiple genres, the genre with the least count survives\n",
    "\n",
    "new_data['one_genre'] = [0] * len(new_data)\n",
    "for e, i in enumerate(new_data['genres']):\n",
    "    flag = True\n",
    "    for genre in new_genres_sorted:\n",
    "        if flag:\n",
    "            if genre in i:\n",
    "                new_data.loc[e,['one_genre']] = genre\n",
    "                flag = False\n",
    "    if e % 1000 == 0:\n",
    "        print(e,', ',new_data.iloc[e]['one_genre'])"
   ]
  },
  {
   "cell_type": "code",
   "execution_count": 18,
   "metadata": {},
   "outputs": [
    {
     "data": {
      "text/html": [
       "<div>\n",
       "<style scoped>\n",
       "    .dataframe tbody tr th:only-of-type {\n",
       "        vertical-align: middle;\n",
       "    }\n",
       "\n",
       "    .dataframe tbody tr th {\n",
       "        vertical-align: top;\n",
       "    }\n",
       "\n",
       "    .dataframe thead th {\n",
       "        text-align: right;\n",
       "    }\n",
       "</style>\n",
       "<table border=\"1\" class=\"dataframe\">\n",
       "  <thead>\n",
       "    <tr style=\"text-align: right;\">\n",
       "      <th></th>\n",
       "      <th>original_title</th>\n",
       "      <th>overview</th>\n",
       "      <th>genres</th>\n",
       "      <th>one_genre</th>\n",
       "    </tr>\n",
       "  </thead>\n",
       "  <tbody>\n",
       "    <tr>\n",
       "      <th>0</th>\n",
       "      <td>Toy Story</td>\n",
       "      <td>Led by Woody, Andy's toys live happily in his ...</td>\n",
       "      <td>[Comedy]</td>\n",
       "      <td>Comedy</td>\n",
       "    </tr>\n",
       "    <tr>\n",
       "      <th>1</th>\n",
       "      <td>Grumpier Old Men</td>\n",
       "      <td>A family wedding reignites the ancient feud be...</td>\n",
       "      <td>[Comedy, Drama/Romance]</td>\n",
       "      <td>Comedy</td>\n",
       "    </tr>\n",
       "    <tr>\n",
       "      <th>2</th>\n",
       "      <td>Waiting to Exhale</td>\n",
       "      <td>Cheated on, mistreated and stepped on, the wom...</td>\n",
       "      <td>[Comedy, Drama/Romance]</td>\n",
       "      <td>Comedy</td>\n",
       "    </tr>\n",
       "    <tr>\n",
       "      <th>3</th>\n",
       "      <td>Father of the Bride Part II</td>\n",
       "      <td>Just when George Banks has recovered from his ...</td>\n",
       "      <td>[Comedy]</td>\n",
       "      <td>Comedy</td>\n",
       "    </tr>\n",
       "    <tr>\n",
       "      <th>4</th>\n",
       "      <td>Heat</td>\n",
       "      <td>Obsessive master thief, Neil McCauley leads a ...</td>\n",
       "      <td>[Action, Drama/Romance, Thriller]</td>\n",
       "      <td>Action</td>\n",
       "    </tr>\n",
       "  </tbody>\n",
       "</table>\n",
       "</div>"
      ],
      "text/plain": [
       "                original_title  \\\n",
       "0                    Toy Story   \n",
       "1             Grumpier Old Men   \n",
       "2            Waiting to Exhale   \n",
       "3  Father of the Bride Part II   \n",
       "4                         Heat   \n",
       "\n",
       "                                            overview  \\\n",
       "0  Led by Woody, Andy's toys live happily in his ...   \n",
       "1  A family wedding reignites the ancient feud be...   \n",
       "2  Cheated on, mistreated and stepped on, the wom...   \n",
       "3  Just when George Banks has recovered from his ...   \n",
       "4  Obsessive master thief, Neil McCauley leads a ...   \n",
       "\n",
       "                              genres one_genre  \n",
       "0                           [Comedy]    Comedy  \n",
       "1            [Comedy, Drama/Romance]    Comedy  \n",
       "2            [Comedy, Drama/Romance]    Comedy  \n",
       "3                           [Comedy]    Comedy  \n",
       "4  [Action, Drama/Romance, Thriller]    Action  "
      ]
     },
     "execution_count": 18,
     "metadata": {},
     "output_type": "execute_result"
    }
   ],
   "source": [
    "new_data.head()"
   ]
  },
  {
   "cell_type": "code",
   "execution_count": 19,
   "metadata": {},
   "outputs": [],
   "source": [
    "# make an index number for each genre\n",
    "\n",
    "genre_idx = new_data['one_genre'].copy()\n",
    "for index, genre in enumerate(new_genres_sorted):\n",
    "  genre_idx[genre_idx == genre] = index"
   ]
  },
  {
   "cell_type": "code",
   "execution_count": 20,
   "metadata": {},
   "outputs": [],
   "source": [
    "new_data['genre_idx'] = genre_idx"
   ]
  },
  {
   "cell_type": "code",
   "execution_count": 25,
   "metadata": {},
   "outputs": [
    {
     "data": {
      "text/html": [
       "<div>\n",
       "<style scoped>\n",
       "    .dataframe tbody tr th:only-of-type {\n",
       "        vertical-align: middle;\n",
       "    }\n",
       "\n",
       "    .dataframe tbody tr th {\n",
       "        vertical-align: top;\n",
       "    }\n",
       "\n",
       "    .dataframe thead th {\n",
       "        text-align: right;\n",
       "    }\n",
       "</style>\n",
       "<table border=\"1\" class=\"dataframe\">\n",
       "  <thead>\n",
       "    <tr style=\"text-align: right;\">\n",
       "      <th></th>\n",
       "      <th>original_title</th>\n",
       "      <th>overview</th>\n",
       "      <th>genres</th>\n",
       "      <th>one_genre</th>\n",
       "      <th>genre_idx</th>\n",
       "    </tr>\n",
       "  </thead>\n",
       "  <tbody>\n",
       "    <tr>\n",
       "      <th>0</th>\n",
       "      <td>Toy Story</td>\n",
       "      <td>Led by Woody, Andy's toys live happily in his ...</td>\n",
       "      <td>[Comedy]</td>\n",
       "      <td>Comedy</td>\n",
       "      <td>4</td>\n",
       "    </tr>\n",
       "    <tr>\n",
       "      <th>1</th>\n",
       "      <td>Grumpier Old Men</td>\n",
       "      <td>A family wedding reignites the ancient feud be...</td>\n",
       "      <td>[Comedy, Drama/Romance]</td>\n",
       "      <td>Comedy</td>\n",
       "      <td>4</td>\n",
       "    </tr>\n",
       "    <tr>\n",
       "      <th>2</th>\n",
       "      <td>Waiting to Exhale</td>\n",
       "      <td>Cheated on, mistreated and stepped on, the wom...</td>\n",
       "      <td>[Comedy, Drama/Romance]</td>\n",
       "      <td>Comedy</td>\n",
       "      <td>4</td>\n",
       "    </tr>\n",
       "    <tr>\n",
       "      <th>3</th>\n",
       "      <td>Father of the Bride Part II</td>\n",
       "      <td>Just when George Banks has recovered from his ...</td>\n",
       "      <td>[Comedy]</td>\n",
       "      <td>Comedy</td>\n",
       "      <td>4</td>\n",
       "    </tr>\n",
       "    <tr>\n",
       "      <th>4</th>\n",
       "      <td>Heat</td>\n",
       "      <td>Obsessive master thief, Neil McCauley leads a ...</td>\n",
       "      <td>[Action, Drama/Romance, Thriller]</td>\n",
       "      <td>Action</td>\n",
       "      <td>2</td>\n",
       "    </tr>\n",
       "  </tbody>\n",
       "</table>\n",
       "</div>"
      ],
      "text/plain": [
       "                original_title  \\\n",
       "0                    Toy Story   \n",
       "1             Grumpier Old Men   \n",
       "2            Waiting to Exhale   \n",
       "3  Father of the Bride Part II   \n",
       "4                         Heat   \n",
       "\n",
       "                                            overview  \\\n",
       "0  Led by Woody, Andy's toys live happily in his ...   \n",
       "1  A family wedding reignites the ancient feud be...   \n",
       "2  Cheated on, mistreated and stepped on, the wom...   \n",
       "3  Just when George Banks has recovered from his ...   \n",
       "4  Obsessive master thief, Neil McCauley leads a ...   \n",
       "\n",
       "                              genres one_genre genre_idx  \n",
       "0                           [Comedy]    Comedy         4  \n",
       "1            [Comedy, Drama/Romance]    Comedy         4  \n",
       "2            [Comedy, Drama/Romance]    Comedy         4  \n",
       "3                           [Comedy]    Comedy         4  \n",
       "4  [Action, Drama/Romance, Thriller]    Action         2  "
      ]
     },
     "execution_count": 25,
     "metadata": {},
     "output_type": "execute_result"
    }
   ],
   "source": [
    "new_data.head()"
   ]
  },
  {
   "cell_type": "code",
   "execution_count": 26,
   "metadata": {},
   "outputs": [
    {
     "data": {
      "text/plain": [
       "Drama/Romance    11232\n",
       "Comedy           10463\n",
       "Action            6048\n",
       "Horror            4632\n",
       "Documentary       3886\n",
       "Thriller          3495\n",
       "Name: one_genre, dtype: int64"
      ]
     },
     "execution_count": 26,
     "metadata": {},
     "output_type": "execute_result"
    }
   ],
   "source": [
    "new_data['one_genre'].value_counts()"
   ]
  },
  {
   "cell_type": "code",
   "execution_count": 31,
   "metadata": {},
   "outputs": [],
   "source": [
    "# remove unnecessary text in 'overview' column\n",
    "\n",
    "import re\n",
    "\n",
    "row_drop = []\n",
    "for e,i in enumerate(new_data[\"overview\"]):\n",
    "    new_data[\"overview\"][e] = re.sub('(https?://)[^ ]+','', i)\n",
    "    new_data[\"overview\"][e] = re.sub('[^ ]+(www.)+[^ ]+','', i)\n",
    "    new_data[\"overview\"][e] = re.sub('hancinema.net[^ ]+','', i)\n",
    "    new_data[\"overview\"][e] = re.sub('(mc)[^ ]+','',i)\n",
    "    if \"No overview\" in i or \"No Overview\" in i or \"no overview\" in i:\n",
    "        row_drop.append(e)\n",
    "        \n",
    "new_data = new_data.drop(row_drop).reset_index(drop=True)"
   ]
  },
  {
   "cell_type": "code",
   "execution_count": 34,
   "metadata": {},
   "outputs": [
    {
     "data": {
      "text/html": [
       "<div>\n",
       "<style scoped>\n",
       "    .dataframe tbody tr th:only-of-type {\n",
       "        vertical-align: middle;\n",
       "    }\n",
       "\n",
       "    .dataframe tbody tr th {\n",
       "        vertical-align: top;\n",
       "    }\n",
       "\n",
       "    .dataframe thead th {\n",
       "        text-align: right;\n",
       "    }\n",
       "</style>\n",
       "<table border=\"1\" class=\"dataframe\">\n",
       "  <thead>\n",
       "    <tr style=\"text-align: right;\">\n",
       "      <th></th>\n",
       "      <th>original_title</th>\n",
       "      <th>overview</th>\n",
       "      <th>genres</th>\n",
       "      <th>one_genre</th>\n",
       "      <th>genre_idx</th>\n",
       "    </tr>\n",
       "  </thead>\n",
       "  <tbody>\n",
       "    <tr>\n",
       "      <th>0</th>\n",
       "      <td>Toy Story</td>\n",
       "      <td>Led by Woody, Andy's toys live happily in his ...</td>\n",
       "      <td>[Comedy]</td>\n",
       "      <td>Comedy</td>\n",
       "      <td>4</td>\n",
       "    </tr>\n",
       "    <tr>\n",
       "      <th>1</th>\n",
       "      <td>Grumpier Old Men</td>\n",
       "      <td>A family wedding reignites the ancient feud be...</td>\n",
       "      <td>[Comedy, Drama/Romance]</td>\n",
       "      <td>Comedy</td>\n",
       "      <td>4</td>\n",
       "    </tr>\n",
       "    <tr>\n",
       "      <th>2</th>\n",
       "      <td>Waiting to Exhale</td>\n",
       "      <td>Cheated on, mistreated and stepped on, the wom...</td>\n",
       "      <td>[Comedy, Drama/Romance]</td>\n",
       "      <td>Comedy</td>\n",
       "      <td>4</td>\n",
       "    </tr>\n",
       "    <tr>\n",
       "      <th>3</th>\n",
       "      <td>Father of the Bride Part II</td>\n",
       "      <td>Just when George Banks has recovered from his ...</td>\n",
       "      <td>[Comedy]</td>\n",
       "      <td>Comedy</td>\n",
       "      <td>4</td>\n",
       "    </tr>\n",
       "    <tr>\n",
       "      <th>4</th>\n",
       "      <td>Heat</td>\n",
       "      <td>Obsessive master thief, Neil McCauley leads a ...</td>\n",
       "      <td>[Action, Drama/Romance, Thriller]</td>\n",
       "      <td>Action</td>\n",
       "      <td>2</td>\n",
       "    </tr>\n",
       "  </tbody>\n",
       "</table>\n",
       "</div>"
      ],
      "text/plain": [
       "                original_title  \\\n",
       "0                    Toy Story   \n",
       "1             Grumpier Old Men   \n",
       "2            Waiting to Exhale   \n",
       "3  Father of the Bride Part II   \n",
       "4                         Heat   \n",
       "\n",
       "                                            overview  \\\n",
       "0  Led by Woody, Andy's toys live happily in his ...   \n",
       "1  A family wedding reignites the ancient feud be...   \n",
       "2  Cheated on, mistreated and stepped on, the wom...   \n",
       "3  Just when George Banks has recovered from his ...   \n",
       "4  Obsessive master thief, Neil McCauley leads a ...   \n",
       "\n",
       "                              genres one_genre genre_idx  \n",
       "0                           [Comedy]    Comedy         4  \n",
       "1            [Comedy, Drama/Romance]    Comedy         4  \n",
       "2            [Comedy, Drama/Romance]    Comedy         4  \n",
       "3                           [Comedy]    Comedy         4  \n",
       "4  [Action, Drama/Romance, Thriller]    Action         2  "
      ]
     },
     "execution_count": 34,
     "metadata": {},
     "output_type": "execute_result"
    }
   ],
   "source": [
    "new_data.head()"
   ]
  },
  {
   "cell_type": "code",
   "execution_count": 35,
   "metadata": {},
   "outputs": [],
   "source": [
    "final_data = new_data[['original_title', 'overview', 'one_genre', 'genre_idx']]"
   ]
  },
  {
   "cell_type": "code",
   "execution_count": 36,
   "metadata": {},
   "outputs": [
    {
     "data": {
      "text/html": [
       "<div>\n",
       "<style scoped>\n",
       "    .dataframe tbody tr th:only-of-type {\n",
       "        vertical-align: middle;\n",
       "    }\n",
       "\n",
       "    .dataframe tbody tr th {\n",
       "        vertical-align: top;\n",
       "    }\n",
       "\n",
       "    .dataframe thead th {\n",
       "        text-align: right;\n",
       "    }\n",
       "</style>\n",
       "<table border=\"1\" class=\"dataframe\">\n",
       "  <thead>\n",
       "    <tr style=\"text-align: right;\">\n",
       "      <th></th>\n",
       "      <th>original_title</th>\n",
       "      <th>overview</th>\n",
       "      <th>one_genre</th>\n",
       "      <th>genre_idx</th>\n",
       "    </tr>\n",
       "  </thead>\n",
       "  <tbody>\n",
       "    <tr>\n",
       "      <th>0</th>\n",
       "      <td>Toy Story</td>\n",
       "      <td>Led by Woody, Andy's toys live happily in his ...</td>\n",
       "      <td>Comedy</td>\n",
       "      <td>4</td>\n",
       "    </tr>\n",
       "    <tr>\n",
       "      <th>1</th>\n",
       "      <td>Grumpier Old Men</td>\n",
       "      <td>A family wedding reignites the ancient feud be...</td>\n",
       "      <td>Comedy</td>\n",
       "      <td>4</td>\n",
       "    </tr>\n",
       "    <tr>\n",
       "      <th>2</th>\n",
       "      <td>Waiting to Exhale</td>\n",
       "      <td>Cheated on, mistreated and stepped on, the wom...</td>\n",
       "      <td>Comedy</td>\n",
       "      <td>4</td>\n",
       "    </tr>\n",
       "    <tr>\n",
       "      <th>3</th>\n",
       "      <td>Father of the Bride Part II</td>\n",
       "      <td>Just when George Banks has recovered from his ...</td>\n",
       "      <td>Comedy</td>\n",
       "      <td>4</td>\n",
       "    </tr>\n",
       "    <tr>\n",
       "      <th>4</th>\n",
       "      <td>Heat</td>\n",
       "      <td>Obsessive master thief, Neil McCauley leads a ...</td>\n",
       "      <td>Action</td>\n",
       "      <td>2</td>\n",
       "    </tr>\n",
       "    <tr>\n",
       "      <th>...</th>\n",
       "      <td>...</td>\n",
       "      <td>...</td>\n",
       "      <td>...</td>\n",
       "      <td>...</td>\n",
       "    </tr>\n",
       "    <tr>\n",
       "      <th>39629</th>\n",
       "      <td>The Burkittsville 7</td>\n",
       "      <td>A film archivist revisits the story of Rustin ...</td>\n",
       "      <td>Horror</td>\n",
       "      <td>1</td>\n",
       "    </tr>\n",
       "    <tr>\n",
       "      <th>39630</th>\n",
       "      <td>Robin Hood</td>\n",
       "      <td>Yet another version of the classic epic, with ...</td>\n",
       "      <td>Action</td>\n",
       "      <td>2</td>\n",
       "    </tr>\n",
       "    <tr>\n",
       "      <th>39631</th>\n",
       "      <td>رگ خواب</td>\n",
       "      <td>Rising and falling between a man and woman.</td>\n",
       "      <td>Drama/Romance</td>\n",
       "      <td>5</td>\n",
       "    </tr>\n",
       "    <tr>\n",
       "      <th>39632</th>\n",
       "      <td>Siglo ng Pagluluwal</td>\n",
       "      <td>An artist struggles to finish his work while a...</td>\n",
       "      <td>Drama/Romance</td>\n",
       "      <td>5</td>\n",
       "    </tr>\n",
       "    <tr>\n",
       "      <th>39633</th>\n",
       "      <td>Betrayal</td>\n",
       "      <td>When one of her hits goes wrong, a professiona...</td>\n",
       "      <td>Action</td>\n",
       "      <td>2</td>\n",
       "    </tr>\n",
       "  </tbody>\n",
       "</table>\n",
       "<p>39634 rows × 4 columns</p>\n",
       "</div>"
      ],
      "text/plain": [
       "                    original_title  \\\n",
       "0                        Toy Story   \n",
       "1                 Grumpier Old Men   \n",
       "2                Waiting to Exhale   \n",
       "3      Father of the Bride Part II   \n",
       "4                             Heat   \n",
       "...                            ...   \n",
       "39629          The Burkittsville 7   \n",
       "39630                   Robin Hood   \n",
       "39631                      رگ خواب   \n",
       "39632          Siglo ng Pagluluwal   \n",
       "39633                     Betrayal   \n",
       "\n",
       "                                                overview      one_genre  \\\n",
       "0      Led by Woody, Andy's toys live happily in his ...         Comedy   \n",
       "1      A family wedding reignites the ancient feud be...         Comedy   \n",
       "2      Cheated on, mistreated and stepped on, the wom...         Comedy   \n",
       "3      Just when George Banks has recovered from his ...         Comedy   \n",
       "4      Obsessive master thief, Neil McCauley leads a ...         Action   \n",
       "...                                                  ...            ...   \n",
       "39629  A film archivist revisits the story of Rustin ...         Horror   \n",
       "39630  Yet another version of the classic epic, with ...         Action   \n",
       "39631        Rising and falling between a man and woman.  Drama/Romance   \n",
       "39632  An artist struggles to finish his work while a...  Drama/Romance   \n",
       "39633  When one of her hits goes wrong, a professiona...         Action   \n",
       "\n",
       "      genre_idx  \n",
       "0             4  \n",
       "1             4  \n",
       "2             4  \n",
       "3             4  \n",
       "4             2  \n",
       "...         ...  \n",
       "39629         1  \n",
       "39630         2  \n",
       "39631         5  \n",
       "39632         5  \n",
       "39633         2  \n",
       "\n",
       "[39634 rows x 4 columns]"
      ]
     },
     "execution_count": 36,
     "metadata": {},
     "output_type": "execute_result"
    }
   ],
   "source": [
    "final_data"
   ]
  },
  {
   "cell_type": "code",
   "execution_count": 37,
   "metadata": {},
   "outputs": [],
   "source": [
    "final_data.to_csv('movie_train_data.csv', index=False)"
   ]
  },
  {
   "cell_type": "code",
   "execution_count": null,
   "metadata": {},
   "outputs": [],
   "source": []
  }
 ],
 "metadata": {
  "kernelspec": {
   "display_name": "Python 3",
   "language": "python",
   "name": "python3"
  },
  "language_info": {
   "codemirror_mode": {
    "name": "ipython",
    "version": 3
   },
   "file_extension": ".py",
   "mimetype": "text/x-python",
   "name": "python",
   "nbconvert_exporter": "python",
   "pygments_lexer": "ipython3",
   "version": "3.8.2"
  }
 },
 "nbformat": 4,
 "nbformat_minor": 4
}
